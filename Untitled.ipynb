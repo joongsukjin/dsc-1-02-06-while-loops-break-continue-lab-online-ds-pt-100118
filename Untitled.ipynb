{
 "cells": [
  {
   "cell_type": "code",
   "execution_count": 3,
   "metadata": {},
   "outputs": [],
   "source": [
    "line = list(range(30))\n",
    "even = []\n",
    "odd = []\n",
    "patron = 0\n",
    "\n",
    "while patron in line:\n",
    "    if patron % 2 == 0:\n",
    "        even.append(patron)\n",
    "    else:\n",
    "        odd.append(patron)\n",
    "    if even and odd == 15:\n",
    "        break\n",
    "    patron += 1"
   ]
  },
  {
   "cell_type": "code",
   "execution_count": null,
   "metadata": {},
   "outputs": [],
   "source": []
  },
  {
   "cell_type": "code",
   "execution_count": null,
   "metadata": {},
   "outputs": [],
   "source": []
  }
 ],
 "metadata": {
  "kernelspec": {
   "display_name": "Python 3",
   "language": "python",
   "name": "python3"
  },
  "language_info": {
   "codemirror_mode": {
    "name": "ipython",
    "version": 3
   },
   "file_extension": ".py",
   "mimetype": "text/x-python",
   "name": "python",
   "nbconvert_exporter": "python",
   "pygments_lexer": "ipython3",
   "version": "3.6.5"
  }
 },
 "nbformat": 4,
 "nbformat_minor": 2
}
